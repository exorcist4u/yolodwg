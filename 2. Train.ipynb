{
 "cells": [
  {
   "cell_type": "markdown",
   "source": [
    "# Train model"
   ],
   "metadata": {}
  },
  {
   "cell_type": "code",
   "execution_count": null,
   "source": [
    "from pytorch3d.loss import chamfer_distance"
   ],
   "outputs": [],
   "metadata": {}
  },
  {
   "cell_type": "code",
   "execution_count": 1,
   "source": [
    "import sys\n",
    "import torch\n",
    "need_pytorch3d=False\n",
    "try:\n",
    "    import pytorch3d\n",
    "except ModuleNotFoundError:\n",
    "    need_pytorch3d=True\n",
    "print(need_pytorch3d)\n",
    "if need_pytorch3d:\n",
    "    if torch.__version__.startswith(\"1.9\") and sys.platform.startswith(\"linux\"):\n",
    "        # We try to install PyTorch3D via a released wheel.\n",
    "        version_str=\"\".join([\n",
    "            f\"py3{sys.version_info.minor}_cu\",\n",
    "            torch.version.cuda.replace(\".\",\"\"),\n",
    "            f\"_pyt{torch.__version__[0:5:2]}\"\n",
    "        ])\n",
    "        print(version_str)\n",
    "        !pip install pytorch3d -f https://dl.fbaipublicfiles.com/pytorch3d/packaging/wheels/{version_str}/download.html\n",
    "    else:\n",
    "        # We try to install PyTorch3D from source.\n",
    "        !curl -LO https://github.com/NVIDIA/cub/archive/1.10.0.tar.gz\n",
    "        !tar xzf 1.10.0.tar.gz\n",
    "        os.environ[\"CUB_HOME\"] = os.getcwd() + \"/cub-1.10.0\"\n",
    "        !pip install 'git+https://github.com/facebookresearch/pytorch3d.git@stable'"
   ],
   "outputs": [
    {
     "output_type": "stream",
     "name": "stdout",
     "text": [
      "True\n",
      "py38_cu111_pyt190\n",
      "Looking in links: https://dl.fbaipublicfiles.com/pytorch3d/packaging/wheels/py38_cu111_pyt190/download.html\n",
      "Collecting pytorch3d\n",
      "  Downloading https://dl.fbaipublicfiles.com/pytorch3d/packaging/wheels/py38_cu111_pyt190/pytorch3d-0.6.0-cp38-cp38-linux_x86_64.whl (44.1 MB)\n",
      "\u001b[K     |████████████████████████████████| 44.1 MB 282 kB/s \n",
      "\u001b[?25hRequirement already satisfied: fvcore in /home/mk/.local/lib/python3.8/site-packages (from pytorch3d) (0.1.5.post20210924)\n",
      "Requirement already satisfied: iopath in /home/mk/.local/lib/python3.8/site-packages (from pytorch3d) (0.1.9)\n",
      "Requirement already satisfied: numpy in /usr/local/lib/python3.8/dist-packages (from fvcore->pytorch3d) (1.21.2)\n",
      "Requirement already satisfied: pyyaml>=5.1 in /usr/lib/python3/dist-packages (from fvcore->pytorch3d) (5.3.1)\n",
      "Requirement already satisfied: tabulate in /home/mk/.local/lib/python3.8/site-packages (from fvcore->pytorch3d) (0.8.9)\n",
      "Requirement already satisfied: tqdm in /home/mk/.local/lib/python3.8/site-packages (from fvcore->pytorch3d) (4.62.2)\n",
      "Requirement already satisfied: termcolor>=1.1 in /home/mk/.local/lib/python3.8/site-packages (from fvcore->pytorch3d) (1.1.0)\n",
      "Requirement already satisfied: Pillow in /usr/lib/python3/dist-packages (from fvcore->pytorch3d) (7.0.0)\n",
      "Requirement already satisfied: yacs>=0.1.6 in /home/mk/.local/lib/python3.8/site-packages (from fvcore->pytorch3d) (0.1.8)\n",
      "Requirement already satisfied: portalocker in /home/mk/.local/lib/python3.8/site-packages (from iopath->pytorch3d) (2.3.2)\n",
      "Installing collected packages: pytorch3d\n",
      "Successfully installed pytorch3d-0.6.0\n"
     ]
    }
   ],
   "metadata": {}
  },
  {
   "cell_type": "code",
   "execution_count": 2,
   "source": [
    "import os\n",
    "import torch\n",
    "\n",
    "from pytorch3d.loss import chamfer_distance\n",
    "\n",
    "import numpy as np\n",
    "from tqdm.notebook import tqdm\n",
    "%matplotlib notebook \n",
    "from mpl_toolkits.mplot3d import Axes3D\n",
    "import matplotlib.pyplot as plt\n",
    "import matplotlib as mpl\n",
    "mpl.rcParams['savefig.dpi'] = 80\n",
    "mpl.rcParams['figure.dpi'] = 80\n",
    "\n",
    "# Set the device\n",
    "if torch.cuda.is_available():\n",
    "    device = torch.device(\"cuda:0\")\n",
    "else:\n",
    "    device = torch.device(\"cpu\")\n",
    "    print(\"WARNING: CPU only, this will be slow!\")"
   ],
   "outputs": [],
   "metadata": {}
  },
  {
   "cell_type": "code",
   "execution_count": 4,
   "source": [
    "# https://pytorch3d.org/tutorials/deform_source_mesh_to_target_mesh\n",
    "t1 = torch.rand(4, 45, 2)\n",
    "t2 = torch.rand(4, 45, 2)\n",
    "\n",
    "chamfer_distance(t1, t2)"
   ],
   "outputs": [
    {
     "output_type": "execute_result",
     "data": {
      "text/plain": [
       "(tensor(0.0148), None)"
      ]
     },
     "metadata": {},
     "execution_count": 4
    }
   ],
   "metadata": {}
  },
  {
   "cell_type": "code",
   "execution_count": null,
   "source": [],
   "outputs": [],
   "metadata": {}
  }
 ],
 "metadata": {
  "interpreter": {
   "hash": "e7370f93d1d0cde622a1f8e1c04877d8463912d04d973331ad4851f04de6915a"
  },
  "kernelspec": {
   "name": "python3",
   "display_name": "Python 3.8.10 64-bit"
  },
  "language_info": {
   "codemirror_mode": {
    "name": "ipython",
    "version": 3
   },
   "file_extension": ".py",
   "mimetype": "text/x-python",
   "name": "python",
   "nbconvert_exporter": "python",
   "pygments_lexer": "ipython3",
   "version": "3.8.10"
  }
 },
 "nbformat": 4,
 "nbformat_minor": 4
}