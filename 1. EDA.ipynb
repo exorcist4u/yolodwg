{
 "cells": [
  {
   "cell_type": "markdown",
   "metadata": {},
   "source": [
    "# Play with data"
   ]
  },
  {
   "cell_type": "code",
   "execution_count": null,
   "metadata": {},
   "outputs": [],
   "source": [
    "import numpy as np\n",
    "import matplotlib.pyplot as plt\n",
    "from yolodwg import EntityDataset\n",
    "ds = EntityDataset()\n",
    "ds.from_cache('data/ids128.cache')"
   ]
  },
  {
   "cell_type": "code",
   "execution_count": null,
   "metadata": {},
   "outputs": [],
   "source": [
    "for i, (img, lbl) in enumerate(ds):\n",
    "    print(i, img.shape, lbl.shape)\n",
    "    print('lbl0x', int(lbl[1, 2]*128))\n",
    "    plt.imshow(img)\n",
    "    for j, a in enumerate(np.sum(255 - img, axis=(1,2))):\n",
    "        print(j, a)\n",
    "    break"
   ]
  },
  {
   "cell_type": "code",
   "execution_count": null,
   "metadata": {},
   "outputs": [],
   "source": []
  }
 ],
 "metadata": {
  "interpreter": {
   "hash": "74e8cc5548c2ba330e0b2a814347395565d98255b61d6c0758de63c16a009010"
  },
  "kernelspec": {
   "display_name": "Python 3.7.6 64-bit ('base': conda)",
   "name": "python3"
  },
  "language_info": {
   "codemirror_mode": {
    "name": "ipython",
    "version": 3
   },
   "file_extension": ".py",
   "mimetype": "text/x-python",
   "name": "python",
   "nbconvert_exporter": "python",
   "pygments_lexer": "ipython3",
   "version": "3.7.6"
  }
 },
 "nbformat": 4,
 "nbformat_minor": 4
}
