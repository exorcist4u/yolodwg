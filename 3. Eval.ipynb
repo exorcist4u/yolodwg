{
 "cells": [
  {
   "cell_type": "code",
   "execution_count": null,
   "metadata": {},
   "outputs": [],
   "source": [
    "%load_ext autoreload\n",
    "%autoreload 2\n",
    "\n",
    "from models import Darknet, load_classes\n",
    "from utils.utils import *\n",
    "import torch\n",
    "\n",
    "import matplotlib.pyplot as plt\n",
    "import matplotlib.patches as patches\n",
    "from PIL import Image"
   ]
  },
  {
   "cell_type": "code",
   "execution_count": null,
   "metadata": {
    "scrolled": true
   },
   "outputs": [],
   "source": [
    "config_path='config/yolov3.cfg'\n",
    "# weights_path='./15.weights'\n",
    "weights_path = './checkpoints/1.weights'\n",
    "class_path='config/dwg.names'\n",
    "img_size = 512\n",
    "\n",
    "# Load model and weights\n",
    "model = Darknet(config_path)\n",
    "model.load_weights(weights_path)\n",
    "\n",
    "model.eval()\n",
    "classes = load_classes(class_path)\n",
    "Tensor = torch.FloatTensor"
   ]
  },
  {
   "cell_type": "code",
   "execution_count": null,
   "metadata": {},
   "outputs": [],
   "source": [
    "from utils.datasets import ListDataset\n",
    "\n",
    "dataloader = torch.utils.data.DataLoader(\n",
    "    ListDataset('./data/dwg/train.txt', max_objects=87), batch_size=4, shuffle=False\n",
    ")"
   ]
  },
  {
   "cell_type": "code",
   "execution_count": null,
   "metadata": {},
   "outputs": [],
   "source": [
    "from models import CalculatePrediction\n",
    "from utils.utils import PlotImageAndPrediction\n",
    "from plot_graphics import generate_file2\n",
    "from IPython import display\n",
    "import os\n",
    "\n",
    "shown_samples, max_number_samples = 0, 5\n",
    "\n",
    "det = None\n",
    "for batch_i, (file_names, imgs, targets) in enumerate(dataloader):\n",
    "    dets = CalculatePrediction(model=model, batch_of_images=imgs)\n",
    "    for i, _img in enumerate(imgs):\n",
    "        print(dets)\n",
    "        det = dets[i]\n",
    "        trg = targets[i]\n",
    "        display.display(PlotImageAndPrediction(image=_img, target=trg, detections=det))\n",
    "        \n",
    "        # check whether input targets are correct\n",
    "        # file_id = os.path.splitext(os.path.split(file_names[i])[1])[0]\n",
    "        # d, _ = generate_file2(file_id=file_id, draw_dimensions=True, draw_texts=False, save_file=False)\n",
    "        # display.display(d)\n",
    "        shown_samples += 1\n",
    "        if shown_samples > max_number_samples: break\n",
    "    if shown_samples > max_number_samples: break"
   ]
  },
  {
   "cell_type": "code",
   "execution_count": null,
   "metadata": {},
   "outputs": [],
   "source": []
  },
  {
   "cell_type": "code",
   "execution_count": null,
   "metadata": {},
   "outputs": [],
   "source": []
  },
  {
   "cell_type": "code",
   "execution_count": null,
   "metadata": {},
   "outputs": [],
   "source": []
  }
 ],
 "metadata": {
  "interpreter": {
   "hash": "619ec19d9a8d5fc76fa0e2c68a9495e80dd8386d08d62321b0d98b1241d5f0e2"
  },
  "kernelspec": {
   "display_name": "Python 3 (ipykernel)",
   "language": "python",
   "name": "python3"
  },
  "language_info": {
   "codemirror_mode": {
    "name": "ipython",
    "version": 3
   },
   "file_extension": ".py",
   "mimetype": "text/x-python",
   "name": "python",
   "nbconvert_exporter": "python",
   "pygments_lexer": "ipython3",
   "version": "3.8.10"
  }
 },
 "nbformat": 4,
 "nbformat_minor": 4
}
