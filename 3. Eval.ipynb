{
 "cells": [
  {
   "cell_type": "code",
   "execution_count": null,
   "metadata": {},
   "outputs": [],
   "source": [
    "import config\n",
    "import torch\n",
    "from plot import plot_loader_predictions\n",
    "from yolodwg import DwgKeyPointsModel, DwgKeyPointsResNet50, DwgDataset, EntityDataset"
   ]
  },
  {
   "cell_type": "code",
   "execution_count": null,
   "metadata": {},
   "outputs": [],
   "source": [
    "checkpoint = torch.load('runs/14/best.weights', map_location=config.device)\n",
    "max_points = checkpoint['max_points']\n",
    "num_coordinates = checkpoint['num_coordinates']\n",
    "num_pnt_classes = checkpoint['num_pnt_classes']\n",
    "\n",
    "model = DwgKeyPointsModel(max_points=max_points,num_pnt_classes=num_pnt_classes,num_coordinates=num_coordinates)\n",
    "model.load_state_dict(checkpoint['model_state_dict'])\n",
    "model.to(config.device)\n",
    "model.eval()"
   ]
  },
  {
   "cell_type": "code",
   "execution_count": null,
   "metadata": {},
   "outputs": [],
   "source": [
    "entities = EntityDataset()\n",
    "entities.from_cache('data/single128.cache')\n",
    "dataset = DwgDataset(entities)\n",
    "loader = dataset.train_loader\n",
    "\n",
    "plot_loader_predictions(loader, model, plot_folder='runs', limit_number_of_plots=None)"
   ]
  },
  {
   "cell_type": "code",
   "execution_count": null,
   "metadata": {},
   "outputs": [],
   "source": []
  }
 ],
 "metadata": {
  "interpreter": {
   "hash": "e7370f93d1d0cde622a1f8e1c04877d8463912d04d973331ad4851f04de6915a"
  },
  "kernelspec": {
   "display_name": "Python 3.8.10 64-bit",
   "name": "python3"
  },
  "language_info": {
   "codemirror_mode": {
    "name": "ipython",
    "version": 3
   },
   "file_extension": ".py",
   "mimetype": "text/x-python",
   "name": "python",
   "nbconvert_exporter": "python",
   "pygments_lexer": "ipython3",
   "version": "3.8.10"
  }
 },
 "nbformat": 4,
 "nbformat_minor": 4
}
